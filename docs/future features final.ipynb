{
 "cells": [
  {
   "cell_type": "markdown",
   "metadata": {},
   "source": [
    "# <img style=\"float: left; padding-right: 10px; width: 45px\" src=\"https://raw.githubusercontent.com/Harvard-IACS/2018-CS109A/master/content/styles/iacs.png\"> CS207 Systems Development for Computational Science\n",
    "## Final Project\n",
    "## Future Features\n",
    "\n",
    "\n",
    "\n",
    "**Harvard University**<br/>\n",
    "**Fall 2019**<br/>\n",
    "**Instructor**: David Sondak <br/>\n",
    "**Team #14**: Fantastic Four<br/>\n",
    "**Students**: Daniel Cox, Anna Davydova, Stephen Moon, Valentina Toll Villagra   <br/>\n",
    "**Git Repository**:https://github.com/IACS-CS-207-FantasticFour/cs207-FinalProject\n",
    "\n",
    "\n",
    "<hr style=\"height:2pt\">"
   ]
  },
  {
   "cell_type": "markdown",
   "metadata": {},
   "source": [
    "*“Nothing takes place in the world whose meaning is not that of some maximum or minimum.”*\n",
    "― Leonhard Euler"
   ]
  },
  {
   "cell_type": "markdown",
   "metadata": {},
   "source": [
    "**Future Features**"
   ]
  },
  {
   "cell_type": "markdown",
   "metadata": {},
   "source": [
    "In the financial markets, large institutions (e.g. banks, asset managers) hold complex portfolios with a variety of financial instruments. While calculating the value of such portfolios can be done fairly easily with simulations and aggregation of market pricing, the sensitivities of these portfolios to changes in price, volatility and interest rates in the market can be a lot more difficult to calculate and come with an accuracy vs. efficiency trade off. \n"
   ]
  },
  {
   "cell_type": "markdown",
   "metadata": {},
   "source": [
    "Given the time and the scope of this project we chose to focus on a subset of the financial instruments and potential end users.  Specifically, we aim to extend our DeltaPi package into a second package HedgeDeltaPi that would be useful to equity options traders as they estimate sensitivities  of their options portfolios and purchase underlying assets (delta-hedge) to minimize their volatility. Accurate and efficient estimate of these sensitivities would allow options traders to buy the right amounts of options to hedge their stock positions from big swings in the asset prices (more on this later)."
   ]
  },
  {
   "cell_type": "markdown",
   "metadata": {},
   "source": [
    "Here we will focus on vanilla, European, non-dividend paying stock options that can only be exercised on specified date of their expiration as opposed to American options that can be exercised during any time up until the expiration date. "
   ]
  },
  {
   "cell_type": "markdown",
   "metadata": {},
   "source": [
    "***What are Financial Options?***"
   ]
  },
  {
   "cell_type": "markdown",
   "metadata": {},
   "source": [
    "A call option is a right but not an obligation to buy an underlying asset (in our case stock) at a given price (strike price) on a given date (expiration date).  Note from the plot below that the option has no intrinsic value below the strike price of USD100.  However, as the stock reaches that value and climbs higher, the intrinsic value of the option is the difference between USD100 and the current price (in the >100 region). That makes sense because we can buy the stock at a 100 and sell it at a price that is now >100, netting a profit that is now the intrinsic value of the option. When the stock price crosses the strike value like this, the option goes from being out-of-the-money to being in-the-money."
   ]
  },
  {
   "cell_type": "markdown",
   "metadata": {},
   "source": [
    "$$\\text{Value of European Call Option}$$"
   ]
  },
  {
   "cell_type": "markdown",
   "metadata": {},
   "source": [
    "![](http://www.quantopia.net/wp-content/uploads/2013/03/EuroCallRates.png)</br>\n",
    "$$\\text{source: www.quantopia.net/wp-content/uploads/2013/03/EuroCallRates.png}$$"
   ]
  },
  {
   "cell_type": "markdown",
   "metadata": {},
   "source": [
    "The plot above illustrates the value progression of a European call option. Essentially, call value (blue curve) is made up of two components: 1) intrinsic value and 2) time value. The green line is its intrinsic value, that goes from 0 when the option is out of the money to climbing with the stock price once it crosses over the strike value at USD100.  The orange curve is the time value of the option that takes into account how far we are from the expiration date (since we cannot exercise the option until it gets there)  and how close we are to the strike price, the discount rate (risk free rate, usually a 10 year Treasury) and the overall volatility of the share price. Black Scholes equation for pricing options takes all of these variables into account (more on this later).  "
   ]
  },
  {
   "cell_type": "markdown",
   "metadata": {},
   "source": [
    "A put option is a right but not an obligation to sell an underlying asset (in our case stock) at a given price (strike) on a given date (expiration).  The plot below shows that the put option has no intrinsic value until the stock price drops below the strike. Then the intrinsic value of the option is the profit one would net by buying the stock <100 and selling it at a strike price of USD100. Similarly to the call option, the total value of the put option is a combination of intrinsic value and time value that takes into account how far the stock is from the strike, time to expiration and stock volatility discounted by the risk free rate. "
   ]
  },
  {
   "cell_type": "markdown",
   "metadata": {},
   "source": [
    "$$\\text{Value of European Put Option}$$"
   ]
  },
  {
   "cell_type": "markdown",
   "metadata": {},
   "source": [
    "![](http://www.quantopia.net/wp-content/uploads/2013/03/EuroPutRates.png)<br/>\n",
    "$$\\text{source: www.quantopia.net/wp-content/uploads/2013/03/EuroPutRates.png}$$"
   ]
  },
  {
   "cell_type": "markdown",
   "metadata": {},
   "source": [
    "The classical approach to valuing options is with Black-Scholes Equation that describes the option price overtime as follows:"
   ]
  },
  {
   "cell_type": "markdown",
   "metadata": {},
   "source": [
    "$$\\frac{\\partial V}{\\partial t}+\\frac{1}{2}\\sigma^2 S^2\\frac{\\partial^2 V}{\\partial S^2}+r S\\frac{\\partial V}{\\partial S} -r V = 0$$"
   ]
  },
  {
   "cell_type": "markdown",
   "metadata": {},
   "source": [
    "where $V$ is the value of the option, $t$ is time, $\\sigma$ is volatility of the underlying asset, $S$ is the price of the underlying asset and $r$ is the risk free rate (Black and Scholes, 1973)."
   ]
  },
  {
   "cell_type": "markdown",
   "metadata": {},
   "source": [
    "Further, Black-Sholes-Merton formula for estimating price of the European Call option is as follows:"
   ]
  },
  {
   "cell_type": "markdown",
   "metadata": {},
   "source": [
    "$$C(S_0,t)=S_0N(d_1)-Ke^{-r(T-t)}N(d_2)$$"
   ]
  },
  {
   "cell_type": "markdown",
   "metadata": {},
   "source": [
    "and similarly the put option value is as follows:\n"
   ]
  },
  {
   "cell_type": "markdown",
   "metadata": {},
   "source": [
    "$$P(S_0,t)=Ke^{-r(T-t)}N(-d_2)-S_tN(-d_1)$$"
   ]
  },
  {
   "cell_type": "markdown",
   "metadata": {},
   "source": [
    "where $S_0$ is the stock price, $C(S_0,t)$ is a price of the call option and $P(S_0,t)$ is price of a put option as a function of stock price and time, $K$ is the strike prices, $(T-t)$ is time to maturity represented in years and $N(d_1)$ and $N(d_2)$ are  cumulative distribution functions for a standard normal distribution (Merton, 1973)."
   ]
  },
  {
   "cell_type": "markdown",
   "metadata": {},
   "source": [
    "$$d_1=\\frac{ln(\\frac{S_t}{K})+(r+\\frac{\\sigma^2_s}{2})(T-t)}{\\sigma_s\\sqrt{(T-t)}}$$"
   ]
  },
  {
   "cell_type": "markdown",
   "metadata": {},
   "source": [
    "$$d_2=\\frac{ln(\\frac{S_t}{K})+(r-\\frac{\\sigma^2_s}{2})(T-t)}{\\sigma_s\\sqrt{(T-t)}}=d_1-\\sigma_s\\sqrt{(T-t)}$$"
   ]
  },
  {
   "cell_type": "markdown",
   "metadata": {},
   "source": [
    "$$N(d_1)=\\int_{-\\infty} ^{d_1}f(u)du=\\int_{-\\infty}^{d_1}\\frac{1}{\\sqrt{2\\pi}}e^{\\frac{-u^2}{2}}du$$"
   ]
  },
  {
   "cell_type": "markdown",
   "metadata": {},
   "source": [
    "$$\\dot{N}(d_1)=\\frac{\\partial N(d_1)}{\\partial d_1}=\\frac{1}{\\sqrt{2\\pi}}e^{-\\frac{d_1^2}{2}}$$"
   ]
  },
  {
   "cell_type": "markdown",
   "metadata": {},
   "source": [
    "We can solve for both put and call deltas and obtain a closed form solution in the form. "
   ]
  },
  {
   "cell_type": "markdown",
   "metadata": {},
   "source": [
    "$$\\Delta_{call}=\\frac{\\partial C_t}{\\partial S_t}=N(d_1)+S_t\\frac{\\partial N(d_1)}{\\partial S_t}-Ke^{-r(T-t)}\\frac{\\partial N(d_2)}{\\partial S_t}= \\dot{N}(d_1)$$"
   ]
  },
  {
   "cell_type": "markdown",
   "metadata": {},
   "source": [
    "$$\\Delta_{put}=\\frac{\\partial P_t}{\\partial S_t}=Ke^{-r(T-t)}\\frac{\\partial N(-d_2)}{\\partial S_t}-N(-d_1)-S_t\\frac {\\partial N(-d_1)}{\\partial S_t}=\\dot{N}(d_1)-1$$"
   ]
  },
  {
   "cell_type": "markdown",
   "metadata": {},
   "source": [
    "Note, that delta is positive for call options and negative for put options, which makes sense.  As the price of the stock goes up so does the value of call option (i.e. right to buy at potentially lower price).  As the price of the stock goes up, the value of the put option goes down (i.e. right to sell at potentially lower price is not valuable). The plot below illustrates this by plotting call/put deltas vs. the 'moneyness' of the option (OTM=Out of the Money, ATM = At the Money and ITM = In the Money)"
   ]
  },
  {
   "cell_type": "markdown",
   "metadata": {},
   "source": [
    "![](https://www.optiontradingtips.com/images/delta-vs-moneyness.png)<br/>\n",
    "$$\\text{source: https://www.optiontradingtips.com/images/delta-vs-moneyness.png}$$"
   ]
  },
  {
   "cell_type": "markdown",
   "metadata": {},
   "source": [
    "We can also obtain closed form solution for first order partial derivative w.r.t. volatility - Vega (note its the same for both put and call options):"
   ]
  },
  {
   "cell_type": "markdown",
   "metadata": {},
   "source": [
    "$$v=\\frac{\\partial{C_t}}{\\partial\\sigma}=\\frac{\\partial{P_t}}{\\partial\\sigma}=S_t\\sqrt{T-t} N(d_1)$$"
   ]
  },
  {
   "cell_type": "markdown",
   "metadata": {},
   "source": [
    "However, it is important to keep in mind that the $\\sigma$ (volatility) of the option is not static overtime (i.e. the volatility surface is not flat).  Thus, rather then focusing on simple delta above, our package will take this into account and calculate minimum variance delta that minimizes volatility of a delta neutral portfolio (i.e. more accurate than static delta).  For local volatility models, for options that are closer to being in the money, several papers ( Derman et al (1995), and Coleman et al (2001)) have shown that:"
   ]
  },
  {
   "cell_type": "markdown",
   "metadata": {},
   "source": [
    "$$\\Delta_{MV}=\\Delta_{BS}+v_{BS}\\frac{\\partial{\\sigma_{imp}}}{\\partial{K}}$$"
   ]
  },
  {
   "cell_type": "markdown",
   "metadata": {},
   "source": [
    "where $\\Delta_{BS}$ $v_{BS}$ are Black Scholes delta and vega respectively, and $\\sigma_{imp}$ is the value of implied volatility.  To estimation equations of implied volatility have proven to be most accurate (Isengildina-Massa, et. al 2007).  We will consider them in this package. "
   ]
  },
  {
   "cell_type": "markdown",
   "metadata": {},
   "source": [
    "1) Implied volatility equation proposed by Bharadia et al. (1996):"
   ]
  },
  {
   "cell_type": "markdown",
   "metadata": {},
   "source": [
    "$$\\sigma_{imp}\\approx\\sqrt{\\frac{2\\pi}{(T-t)}}\\frac{C-(S-K)/2}{S-(S-K)/2}$$"
   ]
  },
  {
   "cell_type": "markdown",
   "metadata": {},
   "source": [
    "2) Implied volatility equation  from Corrado et. al., (1996):"
   ]
  },
  {
   "cell_type": "markdown",
   "metadata": {},
   "source": [
    "$$\\sigma_{imp}\\approx\\sqrt{\\frac{2\\pi}{(T-t)}} \\frac{1}{S+K}(C-\\frac{S-K}{2}+\\sqrt{(C-\\frac{S-K}{2})^2-\\frac{(S-K)^2}{\\pi}})$$"
   ]
  },
  {
   "cell_type": "markdown",
   "metadata": {},
   "source": [
    "DeltaHedgePi will leverage DeltaPi package to calculate the first derivative of $\\sigma_{imp}$ and will calculate $\\Delta_{BS}$ and $v_{BS}$ using market data inputed by the traders and checking it against the currently available live market data. The package will output the following:<br/>\n",
    "1) Three delta values: <br/>\n",
    "&nbsp;&nbsp;    a. classic Black Scholes <br/>\n",
    "&nbsp;&nbsp;    b.  Black Scholes + Bharadia et al. <br/>\n",
    "&nbsp;&nbsp;    c.  Black Scholes + Corrado et al.<br/>\n",
    "2) Depending on the trader's position and type of option, the package will output what action the trader needs to take in order to delta hedge their position. <br/> \n",
    "3) Two visualization for volatility surfaces for the non static approaches.<br/>\n",
    "&nbsp;&nbsp; a.  Black Scholes + Bharadia et al. <br/>\n",
    "&nbsp;&nbsp; b.  Black Scholes + Corrado et al.<br/>"
   ]
  },
  {
   "cell_type": "markdown",
   "metadata": {},
   "source": [
    "The goal of this package is to provide the traders with a more accurate delta estimations for near the money options and make the process of delta hedging easier. "
   ]
  },
  {
   "cell_type": "markdown",
   "metadata": {},
   "source": [
    "***What is Delta Hedging?***"
   ]
  },
  {
   "cell_type": "markdown",
   "metadata": {},
   "source": [
    "In the simple case of vanilla, non dividend paying, European call/put options above, delta hedging refers to buying or selling specific amounts of underlying stock to neutralize the impact of the stock price moves on the options portfolio.  Let us consider the following example:"
   ]
  },
  {
   "cell_type": "markdown",
   "metadata": {},
   "source": [
    "Consider the following example. Let's supposed we have a stock XYZ that currently has a price of USD100 and the bank sold call options (a while ago before the stock price run up) for 1000 shares with strike USD10.  Thus, the buyer of our option has the right but not obligation to buy 1000 shares of XYZ at just USD10 on expiration date (right now the option is deep in the money). If the delta of this call option is 0.5, this means that for every USD1 increase in stock price, the value of the call option goes up USD0.50 (to the holder).  To execute a delta hedge, the bank should buy 1000*.5=500 shares of XYZ. Now if the stock price goes down by USD1, the bank will lose USD500 on the stock position but will gain 0.5x1000=USD500 on its short call option position. Thus, the impact is neutral.  "
   ]
  },
  {
   "cell_type": "markdown",
   "metadata": {},
   "source": [
    "Keep in mind that delta is not static as the slope of option price vs. stock price is usually non linear. This is why accurate and frequent estimates of delta are so important (Lee, 2008)."
   ]
  },
  {
   "cell_type": "markdown",
   "metadata": {},
   "source": [
    "In summary, HedgeDeltaPi will apply automatic differentiation from DeltaPi to compute deltas using 3 approaches described above: 1) Pure Black Scholes, 2) Black Scholes + Implied Vol Simple, 3) Black Scholes + Implied Vol More Complex. The package will then produce a buy/sell recommendation and the quantity of shares in the underlying assets required to successfully delta hedge the traders' position.  The package will also produce a volatility surface visualizations using the latter 2 approaches (classic Black Scholes volatility surface is flat). "
   ]
  },
  {
   "cell_type": "markdown",
   "metadata": {},
   "source": [
    "**Note:** The package is pulling live options data from yahoo finance to confirm current market value of call and put options respectively and realistic expiration dates and strike values. Thus, **the package assumes that the traders are analyzing real options that would practically trade in the market** (i.e. not wildly mis-priced/unrealistically structured options that wouldn't occur in real life). If the user would like to run the package on real options for practice here are some of the valid options to try: "
   ]
  },
  {
   "cell_type": "code",
   "execution_count": 1,
   "metadata": {},
   "outputs": [],
   "source": [
    "#Possible Imputs for Practice:\n",
    "#Run during market Open (weekdays 9:30-4)\n",
    "\n",
    "#inputs:\n",
    "#demo tickers:\n",
    "#ticker='GE'\n",
    "#exp_year=2020\n",
    "#exp_month=1\n",
    "#exp_day=17\n",
    "#exp_date=str(str(exp_month)+'/'+str(exp_day)+'/'+str(exp_year))\n",
    "#op_type='puts'\n",
    "#strike=8\n",
    "\n",
    "#ticker='aapl'\n",
    "#exp_year=2020\n",
    "#exp_month=1\n",
    "#exp_day=24\n",
    "#exp_date=str(str(exp_month)+'/'+str(exp_day)+'/'+str(exp_year))\n",
    "#op_type='puts'\n",
    "#strike=300\n",
    "\n",
    "\n",
    "#ticker='nflx'\n",
    "#exp_year=2021\n",
    "#exp_month=1\n",
    "#exp_day=15\n",
    "#exp_date=str(str(exp_month)+'/'+str(exp_day)+'/'+str(exp_year))\n",
    "#op_type='calls'\n",
    "#strike=350\n"
   ]
  },
  {
   "cell_type": "markdown",
   "metadata": {},
   "source": [
    "Since we are pulling live data form yahoo finance, the package is dependent on yahoo finance API working properly. **If it is yahoo finance is not working, the package would not work.** This is why, for more practical application our package should be linked to more reliable platforms like Bloomberg, which is what most of the traders use.  Since we cannot afford Bloomberg, we built the package with free yahoo finance but it is less reliable. "
   ]
  },
  {
   "cell_type": "markdown",
   "metadata": {},
   "source": [
    "# **REFERENCES:**<br/>\n",
    "Atilim Baydin. Automatic Differentiation in Machine Learning: a Survey. Journal of Machine Learning Research, 2018. <br/> \n",
    "Fischer Black, & Myron Scholes, M. The Pricing of Options and Corporate Liabilities. Retrieved November 1, 2019, from http://www.jstor.org/stable/1831029<br/>\n",
    "George F. Corliss. Application of differentiation arithmetic, volume 19 of Perspectives in Computing, pages 127–48. Academic Press, Boston, 1988.<br/>\n",
    "Andreas Griewank and Andrea Walther. Evaluating Derivatives: Principles and Techniques of Algorithmic Differentiation. Humboldt-Universität zu Berlin, Berlin, Germany. Second Edition, 2008.<br/>\n",
    "Michael Heath. Scientific Computing: An Introductory Survey. Society for Industrial and Applied Mathematics. 8(6):367, 2018.<br/> \n",
    "Christina Homescu. Adjoints and automatic (algorithmic) differentiation in computational finance. arXiv:1107.1831v1 10 Jul 2011.<br/>\n",
    "Olga Isengildina-Massa,Charles E. Curtis, Jr., William C. Bridges, Jr. and Minhuan Nian. Accuracy of Implied Volatility Approximations Using “Nearest-to-the-Money” Option Premiums. 2007.  Retrieved on November 20, 2019, from  https://ageconsearch.umn.edu/record/34927/files/sp07is02.pdf.<br/>\n",
    "Max E. Jerrell. Automatic differentiation and interval arithmetic for estimation of disequilibrium models. Computational Economics, 10(3):295–316, 1997.<br/>\n",
    "Cheng-Few Lee, 'Handbook on Quantitative Finance and Risk Management.' Rutgers University. 2008. <br/>\n",
    "Robert Merton. Theory of Rational Option Pricing. Retrieved on November 1, 2019, from http://www.jstor.org/stable/3003143 <br/>\n",
    "David Sondak. Lectures 10 - 11. Harvard University. CS207 Fall 2019. <br/> \n",
    "Eric Sunnegardh and Ludvig Lamm. \"Efficient Sensitivity Analysis Using Algorithmic Diferentation in Financial Applications\". 2015. \n"
   ]
  },
  {
   "cell_type": "code",
   "execution_count": null,
   "metadata": {},
   "outputs": [],
   "source": []
  }
 ],
 "metadata": {
  "kernelspec": {
   "display_name": "Python 3",
   "language": "python",
   "name": "python3"
  },
  "language_info": {
   "codemirror_mode": {
    "name": "ipython",
    "version": 3
   },
   "file_extension": ".py",
   "mimetype": "text/x-python",
   "name": "python",
   "nbconvert_exporter": "python",
   "pygments_lexer": "ipython3",
   "version": "3.7.4"
  }
 },
 "nbformat": 4,
 "nbformat_minor": 2
}
