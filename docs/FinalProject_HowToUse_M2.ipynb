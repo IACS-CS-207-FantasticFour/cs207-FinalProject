{
 "cells": [
  {
   "cell_type": "markdown",
   "metadata": {},
   "source": [
    "# HOW TO USE OUR PACKAGE"
   ]
  },
  {
   "cell_type": "markdown",
   "metadata": {},
   "source": [
    "## HOW TO INSTALL"
   ]
  },
  {
   "cell_type": "markdown",
   "metadata": {},
   "source": [
    "### 1. Check Conda is Installed and Updated  \n",
    "* In the command line of a terminal window, check you have conda installed by entering:\n",
    "        conda -V\n",
    "* If conda is installed you will see:\n",
    "        conda -V\n",
    "        conda x.x.x\n",
    "* To check conda is updated, type:\n",
    "        conda update conda\n",
    "        \n",
    "### 2. Create a Virtual Environment  \n",
    "* In the command line, enter:\n",
    "        conda create --name env_name python\n",
    "  where `env_name` is your desired name for the environment\n",
    "<p>&nbsp;</p>\n",
    "* To specify the python version, use:\n",
    "        conda create --name env_name python=x.x\n",
    "        \n",
    "### 3. Activate the Virtual Environment  \n",
    "* To activate or switch into your new virtual environment, type:\n",
    "        source activate env_name\n",
    "        \n",
    "### 4. Download the Autodiff Package\n",
    "* Navigate to the folder structure where you want to install the package\n",
    "* To retrieve the folder with the Autodiff class and tests, type:\n",
    "        svn checkout https://github.com/IACS-CS-207-FantasticFour/cs207-FinalProject/branches/dev/code\n",
    "* Navigate to the folder where the AutoDiff.py file is stored by entering:\n",
    "        cd code\n",
    "\n",
    "### 5. Activate and Use Package \n",
    "* To 'activate' this class, import it to any file you use for working adding the following line at the begining of any program:\n",
    "        from AutoDiff import AutoDiff as AutoDiff\n",
    "\n",
    "* Follow the instruction in the following section, 'HOW TO USE' for step by step details and examples on how to use the AutoDiff.py file\n",
    "        \n",
    "### 6. Deactivating and Removing the Virtual Environment  \n",
    "* Once you have finished using the AutiDiff paackage, you can deactivate the virtual environment by enterting:\n",
    "        source deactivate\n",
    "* To remove the virtual environment completely, type:\n",
    "        conda remove --name env_name --all"
   ]
  },
  {
   "cell_type": "markdown",
   "metadata": {},
   "source": [
    "## HOW TO USE"
   ]
  },
  {
   "cell_type": "markdown",
   "metadata": {},
   "source": [
    "## To use the AutoDiff Class\n",
    "* Be `x,y,z,...` input variables\n",
    "* Be `f(x,y,z,...)` the output of function f at (x,y,z,...)\n",
    "* Be `AutoDiff` the class "
   ]
  },
  {
   "cell_type": "markdown",
   "metadata": {},
   "source": [
    "#### 0. Import AutoDiff class\n",
    "        from AutoDiff import AutoDiff as AutoDiff\n",
    "\n",
    "#### 1. Create an instance of the AutoDiff class  \n",
    "        x = AutoDiff(val, derv)     \n",
    "where:  \n",
    "* `val` = the value of x at the desired point  \n",
    "* `derv` = the initial value of the derivative of x  \n",
    "    * 1 for calculating the partial derivative df/dx\n",
    "    * 0 for calculating the partial derivative df/dy,df/dz,...\n",
    "\n",
    "#### 2. Repeat the process of creating an instance of the AutoDiff class for each input variable  \n",
    "        y = AutoDiff(val, derv)\n",
    "        z = AutoDiff(val, derv)\n",
    "        ...\n",
    "where:\n",
    "* `val` = the value of the instance variable (y,z,...) at the desired point\n",
    "* `derv` = the initial value of the derivative of the instance variable (y,z,...)\n",
    "    * 1 for calculating the partial derivative of the instance variable (df/dy for y, df/dz for z,...)\n",
    "    * 0 for calculating the partial derivative of another variable that is not the instance one (df/dx,df/dz for y, df/dx,df/dy for z,...)\n",
    "\n",
    "#### 3. Enter the function of interest  \n",
    "        f = function of x,y,z,...\n",
    "where `function` can contain the following operations:\n",
    "* +\n",
    "* -\n",
    "* * \n",
    "* /\n",
    "- **\n",
    "* exp()\n",
    "* sqrt()\n",
    "* sin()\n",
    "* cos()\n",
    "* tan()\n",
    "\n",
    "#### 4. Print f.val to get the calculated value of f at the specified point (x,y,z,...)  \n",
    "        print(f.val)\n",
    "\n",
    "#### 5. Print f.derv to get the calculated value of df/dx or df/dy or df/dz or ... at the specified point (x,y,z,...)  \n",
    "        print(f.derv)"
   ]
  },
  {
   "cell_type": "markdown",
   "metadata": {},
   "source": [
    "### Example\n",
    "\n",
    "* For values:\n",
    "        x = 3\n",
    "        y = 4\n",
    "        f = x + 2 * y\n",
    "\n",
    "#### Be the goal to calculate the partial derivatives df/dx at (x,y)=(3,4)\n",
    "\n",
    "0. Import AutoDiff class\n",
    "        from AutoDiff import AutoDiff as AutoDiff\n",
    "\n",
    "1. Create an instance of the AutoDiff class\n",
    "        x = AutoDiff(3, 1)\n",
    "2. Repeat the process of creating an instance of the AutoDiff class for y\n",
    "        y = AutoDiff(4, 0)\n",
    "\n",
    "3. Enter the function of interest\n",
    "        f = x + 2 * y\n",
    "\n",
    "4. Print f.val to get the calculated value of f at (3,4)\n",
    "        print(f.val)\n",
    "\n",
    "5. Print f.derv to get the calculated value of df/dx at (3,4)\n",
    "        print(f.derv)\n",
    "\n",
    "\n",
    "#### Be the goal to calculate the partial derivatives df/dy at the same (x,y)=(3,4)\n",
    "\n",
    "0. Import AutoDiff class\n",
    "        from AutoDiff import AutoDiff as AutoDiff\n",
    "\n",
    "1. Create an instance of the AutoDiff class\n",
    "        x = AutoDiff(3, 0)\n",
    "\n",
    "2. Repeat the process of creating an instance of the AutoDiff class for y\n",
    "        y = AutoDiff(4, 1)\n",
    "\n",
    "3. Enter the function of interest\n",
    "        f = x + 2 * y\n",
    "\n",
    "4. Print f.val to get the calculated value of f at (3,4) - will be the same from df/dx\n",
    "        print(f.val)\n",
    "\n",
    "5. Print f.derv to get the calculated value of df/dy at (3,4)\n",
    "        print(f.derv)"
   ]
  },
  {
   "cell_type": "markdown",
   "metadata": {},
   "source": [
    "----------------------------------------------------------------------------------------"
   ]
  },
  {
   "cell_type": "markdown",
   "metadata": {},
   "source": [
    "## To use the all_derivatives() function\n",
    "\n",
    "* Be `x,y,z,...` input variables\n",
    "* Be `func(x,y,z,...)` the output of function f at (x,y,z,...)\n",
    "* Be `all_derivatives` the function that uses `AutoDiff` class "
   ]
  },
  {
   "cell_type": "markdown",
   "metadata": {},
   "source": [
    "#### 1. Create a vector containing the input variables\n",
    "        in_vars = [x,y,z,...]\n",
    "where:\n",
    "* `x,y,z,...` are variable names \n",
    "\n",
    "#### 2. Create a vector containing the variable values\n",
    "        in_vals = [val_x,val_y,val_z,...]\n",
    "where:\n",
    "* `val_x` = the value of x at which to evaluate the function\n",
    "* `val_y` = the value of y at which to evaluate the function\n",
    "* `val_z` = the value of z at which to evaluate the function\n",
    "\n",
    "### 3. Enter the function to be evaluated\n",
    "        func = function of x,y,z,...\n",
    "where `function` can contain the following operations:\n",
    "* +\n",
    "* -\n",
    "* * \n",
    "* /\n",
    "- **\n",
    "* exp()\n",
    "* sqrt()\n",
    "* sin()\n",
    "* cos()\n",
    "* tan()\n",
    "\n",
    "#### 4. Run all_derivatives()\n",
    "        result = allderivatives(func, in_vars, in_vals)\n",
    "\n",
    "#### 5. Print result.val to get the calculated value of func at (in_vars)\n",
    "        print(result.val)\n",
    "\n",
    "#### 6. Print result.derv_vals to get vector of calculated partial derivative values, one for each variable in in_vars\n",
    "        print(result.derv_vals)"
   ]
  },
  {
   "cell_type": "markdown",
   "metadata": {},
   "source": [
    "### Examples\n",
    "\n",
    "* For values:\n",
    "        x = 3\n",
    "        y = 4\n",
    "        z = 5\n",
    "        func = x + 2 * y - z\n",
    "\n",
    "#### Be the goal to calculate the all partial derivatives at once\n",
    "1. Create a vector containing the input variables\n",
    "        in_vars = [x,y,z]\n",
    "\n",
    "2. Create a vector containing the variable values\n",
    "        in_vals = [3,4,5]\n",
    "\n",
    "3. Enter the function to be evaluated\n",
    "        func =  x + 2 * y - z\n",
    "\n",
    "4. Run all_derivatives()\n",
    "        result = all_derivatives(func, in_vars, in_vals)\n",
    "\n",
    "5. Print result.val to get the calculated value of func at (in_vars)\n",
    "        print(result.val)\n",
    "\n",
    "6. Print result.derv_vals to get vector of calculated partial derivative values, one for each variable in in_vars\n",
    "        print(result.derv_vals)"
   ]
  },
  {
   "cell_type": "markdown",
   "metadata": {},
   "source": [
    "----------------------------------------------------------------------------------------"
   ]
  },
  {
   "cell_type": "markdown",
   "metadata": {},
   "source": [
    "## To use multi_func_all_derivatives() function\n",
    "* Be `x,y,z,...` input variables\n",
    "* Be `func(x,y,z,...`) the output of function f at (x,y,z,...)\n",
    "* Be `multi_func_all_derivatives` the function that uses `AutoDiff` class "
   ]
  },
  {
   "cell_type": "markdown",
   "metadata": {},
   "source": [
    "#### 1. Create a vector containing the input variables\n",
    "        in_vars = [x,y,z,...]\n",
    "where:\n",
    "* `x,y,z,...` are variable names \n",
    "\n",
    "#### 2. Create a vector containing the variable values\n",
    "    in_vals = [val_x,val_y,val_z,...]\n",
    "where:\n",
    "* `val_x` = the value of x at which to evaluate the function\n",
    "* `val_y` = the value of y at which to evaluate the function\n",
    "* `val_z` = the value of z at which to evaluate the function\n",
    "\n",
    "#### 3. Create a vector containing the functions to be evaluated\n",
    "        funcs = [func_1,func_2,func_3,...]\n",
    "where:\n",
    "* `func_n` = function of x,y,z,...\n",
    "\n",
    "where `func_n` can contain the following operations:\n",
    "* +\n",
    "* -\n",
    "* * \n",
    "* /\n",
    "- **\n",
    "* exp()\n",
    "* sqrt()\n",
    "* sin()\n",
    "* cos()\n",
    "* tan()\n",
    "\n",
    "#### 4. Run multi_func_all_derivatives()\n",
    "        result = multi_func_all_derivatives(funcs, in_vars, in_vals)\n",
    "\n",
    "#### 5. Print result.out_vals to get vector of calculated values of all funcs each at (in_vars)\n",
    "        print(result.out_vals)\n",
    "\n",
    "#### 6. Print result.out_derv_matrix to get the Hessian matrix of partial derivatives evaluated at (in_vars)\n",
    "        print(result.out_derv_matrix)"
   ]
  },
  {
   "cell_type": "markdown",
   "metadata": {},
   "source": [
    "### Example\n",
    "* For values:\n",
    "        x = 3\n",
    "        y = 4\n",
    "        z = 5\n",
    "        func_1 = x + 2 * y - z\n",
    "        func_2 = x - exp(y) + z\n",
    "\n",
    "#### Be the goal to calculate the partial all the derivatives of more than one function at once\n",
    "1. Create a vector containing the input variables\n",
    "        in_vars = [x,y,z]\n",
    "\n",
    "2. Create a vector containing the variable values\n",
    "        in_vals = [3,4,5]\n",
    "\n",
    "3. Create a vector containing the functions to be evaluated\n",
    "        func_1 = x + 2 * y - z\n",
    "        func_2 = x - exp(y) + z\n",
    "        funcs = [func_1,func_2]\n",
    "\n",
    "4. Run multi_func_all_derivatives()\n",
    "        result = multi_func_all_derivatives(funcs, in_vars, in_vals)\n",
    "\n",
    "5. Print result.out_vals to get vector of calculated values of all funcs each at (in_vars)\n",
    "        print(result.out_vals)\n",
    "\n",
    "6. Print result.out_derv_matrix to get the Hessian matrix of partial derivatives evaluated at (in_vars)\n",
    "        print(result.out_derv_matrix"
   ]
  },
  {
   "cell_type": "markdown",
   "metadata": {},
   "source": [
    "References:  \n",
    "https://harvard-iacs.github.io/2019-CS207/lectures/lecture14/notebook/  \n",
    "https://uoa-eresearch.github.io/eresearch-cookbook/recipe/2014/11/20/conda/"
   ]
  },
  {
   "cell_type": "code",
   "execution_count": null,
   "metadata": {},
   "outputs": [],
   "source": []
  }
 ],
 "metadata": {
  "kernelspec": {
   "display_name": "Python 3",
   "language": "python",
   "name": "python3"
  },
  "language_info": {
   "codemirror_mode": {
    "name": "ipython",
    "version": 3
   },
   "file_extension": ".py",
   "mimetype": "text/x-python",
   "name": "python",
   "nbconvert_exporter": "python",
   "pygments_lexer": "ipython3",
   "version": "3.7.3"
  }
 },
 "nbformat": 4,
 "nbformat_minor": 2
}
